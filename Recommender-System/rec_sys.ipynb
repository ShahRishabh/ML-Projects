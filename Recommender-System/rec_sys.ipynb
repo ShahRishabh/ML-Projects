{
 "cells": [
  {
   "cell_type": "code",
   "execution_count": 1,
   "metadata": {},
   "outputs": [],
   "source": [
    "import pandas as pd\n",
    "import numpy as np\n",
    "import matplotlib.pyplot as plt\n",
    "import random\n",
    "from gensim.models import Word2Vec\n",
    "import umap\n",
    "\n",
    "import warnings;\n",
    "warnings.filterwarnings('ignore')"
   ]
  },
  {
   "cell_type": "markdown",
   "metadata": {},
   "source": [
    "# Reading Data"
   ]
  },
  {
   "cell_type": "code",
   "execution_count": 2,
   "metadata": {},
   "outputs": [
    {
     "name": "stdout",
     "output_type": "stream",
     "text": [
      "Dataframe dimensions: (1083818, 8)\n"
     ]
    }
   ],
   "source": [
    "# Reading the data\n",
    "df = pd.read_csv('transaction_data.csv')\n",
    "print('Dataframe dimensions:', df.shape)"
   ]
  },
  {
   "cell_type": "code",
   "execution_count": 3,
   "metadata": {},
   "outputs": [
    {
     "data": {
      "text/html": [
       "<div>\n",
       "<style scoped>\n",
       "    .dataframe tbody tr th:only-of-type {\n",
       "        vertical-align: middle;\n",
       "    }\n",
       "\n",
       "    .dataframe tbody tr th {\n",
       "        vertical-align: top;\n",
       "    }\n",
       "\n",
       "    .dataframe thead th {\n",
       "        text-align: right;\n",
       "    }\n",
       "</style>\n",
       "<table border=\"1\" class=\"dataframe\">\n",
       "  <thead>\n",
       "    <tr style=\"text-align: right;\">\n",
       "      <th></th>\n",
       "      <th>UserId</th>\n",
       "      <th>TransactionId</th>\n",
       "      <th>TransactionTime</th>\n",
       "      <th>ItemCode</th>\n",
       "      <th>ItemDescription</th>\n",
       "      <th>NumberOfItemsPurchased</th>\n",
       "      <th>CostPerItem</th>\n",
       "      <th>Country</th>\n",
       "    </tr>\n",
       "  </thead>\n",
       "  <tbody>\n",
       "    <tr>\n",
       "      <th>0</th>\n",
       "      <td>278166</td>\n",
       "      <td>6355745</td>\n",
       "      <td>Sat Feb 02 12:50:00 IST 2019</td>\n",
       "      <td>465549</td>\n",
       "      <td>FAMILY ALBUM WHITE PICTURE FRAME</td>\n",
       "      <td>6</td>\n",
       "      <td>11.73</td>\n",
       "      <td>United Kingdom</td>\n",
       "    </tr>\n",
       "    <tr>\n",
       "      <th>1</th>\n",
       "      <td>337701</td>\n",
       "      <td>6283376</td>\n",
       "      <td>Wed Dec 26 09:06:00 IST 2018</td>\n",
       "      <td>482370</td>\n",
       "      <td>LONDON BUS COFFEE MUG</td>\n",
       "      <td>3</td>\n",
       "      <td>3.52</td>\n",
       "      <td>United Kingdom</td>\n",
       "    </tr>\n",
       "    <tr>\n",
       "      <th>2</th>\n",
       "      <td>267099</td>\n",
       "      <td>6385599</td>\n",
       "      <td>Fri Feb 15 09:45:00 IST 2019</td>\n",
       "      <td>490728</td>\n",
       "      <td>SET 12 COLOUR PENCILS DOLLY GIRL</td>\n",
       "      <td>72</td>\n",
       "      <td>0.90</td>\n",
       "      <td>France</td>\n",
       "    </tr>\n",
       "    <tr>\n",
       "      <th>3</th>\n",
       "      <td>380478</td>\n",
       "      <td>6044973</td>\n",
       "      <td>Fri Jun 22 07:14:00 IST 2018</td>\n",
       "      <td>459186</td>\n",
       "      <td>UNION JACK FLAG LUGGAGE TAG</td>\n",
       "      <td>3</td>\n",
       "      <td>1.73</td>\n",
       "      <td>United Kingdom</td>\n",
       "    </tr>\n",
       "    <tr>\n",
       "      <th>4</th>\n",
       "      <td>-1</td>\n",
       "      <td>6143225</td>\n",
       "      <td>Mon Sep 10 11:58:00 IST 2018</td>\n",
       "      <td>1733592</td>\n",
       "      <td>WASHROOM METAL SIGN</td>\n",
       "      <td>3</td>\n",
       "      <td>3.40</td>\n",
       "      <td>United Kingdom</td>\n",
       "    </tr>\n",
       "  </tbody>\n",
       "</table>\n",
       "</div>"
      ],
      "text/plain": [
       "   UserId  TransactionId               TransactionTime  ItemCode  \\\n",
       "0  278166        6355745  Sat Feb 02 12:50:00 IST 2019    465549   \n",
       "1  337701        6283376  Wed Dec 26 09:06:00 IST 2018    482370   \n",
       "2  267099        6385599  Fri Feb 15 09:45:00 IST 2019    490728   \n",
       "3  380478        6044973  Fri Jun 22 07:14:00 IST 2018    459186   \n",
       "4      -1        6143225  Mon Sep 10 11:58:00 IST 2018   1733592   \n",
       "\n",
       "                     ItemDescription  NumberOfItemsPurchased  CostPerItem  \\\n",
       "0   FAMILY ALBUM WHITE PICTURE FRAME                       6        11.73   \n",
       "1              LONDON BUS COFFEE MUG                       3         3.52   \n",
       "2  SET 12 COLOUR PENCILS DOLLY GIRL                       72         0.90   \n",
       "3        UNION JACK FLAG LUGGAGE TAG                       3         1.73   \n",
       "4                WASHROOM METAL SIGN                       3         3.40   \n",
       "\n",
       "          Country  \n",
       "0  United Kingdom  \n",
       "1  United Kingdom  \n",
       "2          France  \n",
       "3  United Kingdom  \n",
       "4  United Kingdom  "
      ]
     },
     "execution_count": 3,
     "metadata": {},
     "output_type": "execute_result"
    }
   ],
   "source": [
    "# Checking sample data\n",
    "df.head()"
   ]
  },
  {
   "cell_type": "code",
   "execution_count": 4,
   "metadata": {},
   "outputs": [
    {
     "name": "stdout",
     "output_type": "stream",
     "text": [
      "<class 'pandas.core.frame.DataFrame'>\n",
      "RangeIndex: 1083818 entries, 0 to 1083817\n",
      "Data columns (total 8 columns):\n",
      " #   Column                  Non-Null Count    Dtype  \n",
      "---  ------                  --------------    -----  \n",
      " 0   UserId                  1083818 non-null  int64  \n",
      " 1   TransactionId           1083818 non-null  int64  \n",
      " 2   TransactionTime         1083818 non-null  object \n",
      " 3   ItemCode                1083818 non-null  int64  \n",
      " 4   ItemDescription         1080910 non-null  object \n",
      " 5   NumberOfItemsPurchased  1083818 non-null  int64  \n",
      " 6   CostPerItem             1083818 non-null  float64\n",
      " 7   Country                 1083818 non-null  object \n",
      "dtypes: float64(1), int64(4), object(3)\n",
      "memory usage: 66.2+ MB\n"
     ]
    }
   ],
   "source": [
    "# Checking datatypes and null values\n",
    "df.info()"
   ]
  },
  {
   "cell_type": "markdown",
   "metadata": {},
   "source": [
    "# Data Cleaning"
   ]
  },
  {
   "cell_type": "markdown",
   "metadata": {},
   "source": [
    "## 1) Removing Duplicate Entries"
   ]
  },
  {
   "cell_type": "code",
   "execution_count": 5,
   "metadata": {},
   "outputs": [
    {
     "name": "stdout",
     "output_type": "stream",
     "text": [
      "Duplicate data entries: 547246\n",
      "Dataframe dimensions after dropping duplicates: (536572, 8)\n"
     ]
    }
   ],
   "source": [
    "print('Duplicate data entries: {}'.format(df.duplicated().sum()))\n",
    "df.drop_duplicates(inplace = True)\n",
    "print('Dataframe dimensions after dropping duplicates:', df.shape)"
   ]
  },
  {
   "cell_type": "markdown",
   "metadata": {},
   "source": [
    "## 2) Processing Invalid Entries"
   ]
  },
  {
   "cell_type": "markdown",
   "metadata": {},
   "source": [
    "### 2.1) UserId"
   ]
  },
  {
   "cell_type": "code",
   "execution_count": 6,
   "metadata": {},
   "outputs": [
    {
     "name": "stdout",
     "output_type": "stream",
     "text": [
      "Number of entries with missing UserId: 135003\n"
     ]
    }
   ],
   "source": [
    "missing_user_id = df[df['UserId'] <= 0].UserId.count()\n",
    "print('Number of entries with missing UserId:', missing_user_id)"
   ]
  },
  {
   "cell_type": "markdown",
   "metadata": {},
   "source": [
    "#### Entries with UserId <= 0:\n",
    "* Assuming that the UserIds <= 0 imply that the actual Id is missing\n",
    "* While finding the relationship between items bought, we can work with just the TransactionId, even if UserId is unavailable\n",
    "* Thus, we will keep these entries as they are"
   ]
  },
  {
   "cell_type": "markdown",
   "metadata": {},
   "source": [
    "### 2.2) TransactionId"
   ]
  },
  {
   "cell_type": "code",
   "execution_count": 7,
   "metadata": {},
   "outputs": [
    {
     "name": "stdout",
     "output_type": "stream",
     "text": [
      "Number of entries with missing TransactionId: 0\n"
     ]
    }
   ],
   "source": [
    "missing_transaction_id = df[df['TransactionId'] <= 0].UserId.count()\n",
    "print('Number of entries with missing TransactionId:', missing_transaction_id)"
   ]
  },
  {
   "cell_type": "markdown",
   "metadata": {},
   "source": [
    "### 2.3) ItemCode"
   ]
  },
  {
   "cell_type": "code",
   "execution_count": 8,
   "metadata": {},
   "outputs": [
    {
     "name": "stdout",
     "output_type": "stream",
     "text": [
      "Number of entries with missing ItemCode: 2790\n"
     ]
    }
   ],
   "source": [
    "missing_item_code = df[df['ItemCode'] <= 0].UserId.count()\n",
    "print('Number of entries with missing ItemCode:', missing_item_code)"
   ]
  },
  {
   "cell_type": "code",
   "execution_count": 9,
   "metadata": {},
   "outputs": [
    {
     "data": {
      "text/plain": [
       "{'AMAZON FEE',\n",
       " 'Adjust bad debt',\n",
       " 'BOYS PARTY BAG',\n",
       " 'Bank Charges',\n",
       " 'CRUK Commission',\n",
       " 'DOTCOM POSTAGE',\n",
       " 'Discount',\n",
       " 'GIRLS PARTY BAG',\n",
       " 'Manual',\n",
       " 'PADS TO MATCH ALL CUSHIONS',\n",
       " 'POSTAGE',\n",
       " 'SAMPLES',\n",
       " nan}"
      ]
     },
     "execution_count": 9,
     "metadata": {},
     "output_type": "execute_result"
    }
   ],
   "source": [
    "set(df[df['ItemCode'] <= 0]['ItemDescription'])"
   ]
  },
  {
   "cell_type": "markdown",
   "metadata": {},
   "source": [
    "#### Entries with ItemCode -1:\n",
    "* The description of items corresponding to code -1 is listed above\n",
    "* They mostly refer to non-purchasable items, like Bank Charges, Postage, etc.\n",
    "* Thus, we will be excluding these entries"
   ]
  },
  {
   "cell_type": "code",
   "execution_count": 10,
   "metadata": {},
   "outputs": [
    {
     "name": "stdout",
     "output_type": "stream",
     "text": [
      "Dataframe dimensions after removing these ItemCode: (533782, 8)\n"
     ]
    }
   ],
   "source": [
    "df.drop(df[df['ItemCode'] <= 0].index, inplace = True)\n",
    "print('Dataframe dimensions after removing these ItemCode:', df.shape)"
   ]
  },
  {
   "cell_type": "markdown",
   "metadata": {},
   "source": [
    "### 2.4) NumberOfItemsPurchased"
   ]
  },
  {
   "cell_type": "code",
   "execution_count": 11,
   "metadata": {},
   "outputs": [
    {
     "name": "stdout",
     "output_type": "stream",
     "text": [
      "Number of entries with negative quantity of Items purchased: 10005\n"
     ]
    }
   ],
   "source": [
    "missing_num_purch = df[df['NumberOfItemsPurchased'] <= 0].UserId.count()\n",
    "print('Number of entries with negative quantity of Items purchased:', missing_num_purch)"
   ]
  },
  {
   "cell_type": "markdown",
   "metadata": {},
   "source": [
    "#### Entries with NumberOfItemsPurchased <= 0:\n",
    "* Assuming that these entries denote the items not purchased/returned/transaction anamoly\n",
    "* So we will be excluding these entries"
   ]
  },
  {
   "cell_type": "code",
   "execution_count": 12,
   "metadata": {},
   "outputs": [
    {
     "name": "stdout",
     "output_type": "stream",
     "text": [
      "Dataframe dimensions after dropping the items not purchased: (523777, 8)\n"
     ]
    }
   ],
   "source": [
    "df.drop(df[df['NumberOfItemsPurchased'] <= 0].index, inplace = True)\n",
    "print('Dataframe dimensions after dropping the items not purchased:', df.shape)"
   ]
  },
  {
   "cell_type": "markdown",
   "metadata": {},
   "source": [
    "### 2.5) CostPerItem"
   ]
  },
  {
   "cell_type": "code",
   "execution_count": 13,
   "metadata": {},
   "outputs": [
    {
     "name": "stdout",
     "output_type": "stream",
     "text": [
      "Number of entries with missing CostPerItem: 0\n"
     ]
    }
   ],
   "source": [
    "missing_cost_per_item = df[df['CostPerItem'] < 0].UserId.count()\n",
    "print('Number of entries with missing CostPerItem:', missing_cost_per_item)"
   ]
  },
  {
   "cell_type": "markdown",
   "metadata": {},
   "source": [
    "### 2.6) ItemDecription"
   ]
  },
  {
   "cell_type": "code",
   "execution_count": 14,
   "metadata": {},
   "outputs": [
    {
     "name": "stdout",
     "output_type": "stream",
     "text": [
      "Dataframe dimensions after dropping the items with no description: (523190, 8)\n"
     ]
    }
   ],
   "source": [
    "# Removing NaN entries from ItemDescription\n",
    "df.dropna(subset=['ItemDescription'], inplace=True)\n",
    "print('Dataframe dimensions after dropping the items with no description:', df.shape)"
   ]
  },
  {
   "cell_type": "markdown",
   "metadata": {},
   "source": [
    "# Data Preparation"
   ]
  },
  {
   "cell_type": "code",
   "execution_count": 15,
   "metadata": {},
   "outputs": [],
   "source": [
    "df['ItemCode']= df['ItemCode'].astype(str)"
   ]
  },
  {
   "cell_type": "code",
   "execution_count": 16,
   "metadata": {},
   "outputs": [
    {
     "name": "stdout",
     "output_type": "stream",
     "text": [
      "Number of unique transactions: 19958\n"
     ]
    }
   ],
   "source": [
    "# List of transactions\n",
    "transactions = df['TransactionId'].unique().tolist()\n",
    "print('Number of unique transactions:', len(transactions))"
   ]
  },
  {
   "cell_type": "code",
   "execution_count": 17,
   "metadata": {},
   "outputs": [],
   "source": [
    "# List of items purchased in each transaction\n",
    "items_purchased = []\n",
    "\n",
    "for i in transactions:\n",
    "    temp = df[df['TransactionId'] == i]['ItemCode'].tolist()\n",
    "    items_purchased.append(temp)"
   ]
  },
  {
   "cell_type": "markdown",
   "metadata": {},
   "source": [
    "# Model Training"
   ]
  },
  {
   "cell_type": "code",
   "execution_count": 18,
   "metadata": {},
   "outputs": [],
   "source": [
    "# Building Word2Vec model\n",
    "model = Word2Vec(size = 50, window = 10, sg = 1, hs = 0, negative = 10, seed = 21)\n",
    "\n",
    "model.build_vocab(items_purchased)"
   ]
  },
  {
   "cell_type": "code",
   "execution_count": 19,
   "metadata": {},
   "outputs": [
    {
     "data": {
      "text/plain": [
       "(10359830, 10463800)"
      ]
     },
     "execution_count": 19,
     "metadata": {},
     "output_type": "execute_result"
    }
   ],
   "source": [
    "# Training the model\n",
    "model.train(items_purchased, total_examples = model.corpus_count, epochs = 20)"
   ]
  },
  {
   "cell_type": "code",
   "execution_count": 20,
   "metadata": {},
   "outputs": [],
   "source": [
    "# Stopping the training\n",
    "model.init_sims(replace=True)"
   ]
  },
  {
   "cell_type": "code",
   "execution_count": 21,
   "metadata": {},
   "outputs": [
    {
     "data": {
      "text/plain": [
       "(3043, 50)"
      ]
     },
     "execution_count": 21,
     "metadata": {},
     "output_type": "execute_result"
    }
   ],
   "source": [
    "# Saving the trained vectors\n",
    "model_data = model[model.wv.vocab]\n",
    "model_data.shape"
   ]
  },
  {
   "cell_type": "markdown",
   "metadata": {},
   "source": [
    "# Visualization"
   ]
  },
  {
   "cell_type": "code",
   "execution_count": 22,
   "metadata": {},
   "outputs": [],
   "source": [
    "# Applying dimensionality reduction on the vectors (projecting in 2D space)\n",
    "cluster_embedding = umap.UMAP(n_neighbors=30, min_dist=0.0, n_components=2, random_state=42).fit_transform(model_data)"
   ]
  },
  {
   "cell_type": "code",
   "execution_count": 23,
   "metadata": {},
   "outputs": [
    {
     "data": {
      "image/png": "[encoded data removed]",
      "text/plain": [
       "<Figure size 720x720 with 1 Axes>"
      ]
     },
     "metadata": {
      "needs_background": "light"
     },
     "output_type": "display_data"
    }
   ],
   "source": [
    "# Plotting\n",
    "plt.figure(figsize=(10,10))\n",
    "plt.scatter(cluster_embedding[:, 0], cluster_embedding[:, 1], s=3)\n",
    "plt.show()"
   ]
  },
  {
   "cell_type": "markdown",
   "metadata": {},
   "source": [
    "#### Here the dots represent the vectors representing the items projected in a 2D plane"
   ]
  },
  {
   "cell_type": "markdown",
   "metadata": {},
   "source": [
    "# Testing"
   ]
  },
  {
   "cell_type": "code",
   "execution_count": 24,
   "metadata": {},
   "outputs": [],
   "source": [
    "items = df[['ItemCode', 'ItemDescription']]\n",
    "\n",
    "# Removing duplicate copies of items\n",
    "items.drop_duplicates(inplace=True, subset='ItemCode', keep='last')\n",
    "\n",
    "# Creating ItemCode ItemDdescription dictionary\n",
    "dict_items = items.groupby('ItemCode')['ItemDescription'].apply(list).to_dict()"
   ]
  },
  {
   "cell_type": "code",
   "execution_count": 25,
   "metadata": {},
   "outputs": [],
   "source": [
    "def item_reco(item, mode=0):\n",
    "    \n",
    "    \"\"\" mode = 0: Enter the ItemCode to get the 2 recommended items along with the similarity score\n",
    "        mode = 1: Return just the ItemCode as int, for the output file \"\"\"\n",
    "    \n",
    "    data = model.similar_by_vector(model[item], topn=3)[1:]\n",
    "    out = []\n",
    "\n",
    "    if mode == 0:   \n",
    "        for i in data:\n",
    "            temp = (i[0], dict_items[i[0]][0], i[1])\n",
    "            out.append(temp)\n",
    "        \n",
    "        print('ItemCode\\t', 'ItemDescription\\t', 'SimilarityScore\\t')\n",
    "    \n",
    "        return out\n",
    "    \n",
    "    elif mode == 1:\n",
    "        for i in data:\n",
    "            out.append(i[0])\n",
    "            \n",
    "        return out"
   ]
  },
  {
   "cell_type": "code",
   "execution_count": 26,
   "metadata": {},
   "outputs": [],
   "source": [
    "# Test example\n",
    "# item_reco('465549')"
   ]
  },
  {
   "cell_type": "markdown",
   "metadata": {},
   "source": [
    "# Output"
   ]
  },
  {
   "cell_type": "code",
   "execution_count": 27,
   "metadata": {},
   "outputs": [],
   "source": [
    "target_item = []\n",
    "items_reco1 = []\n",
    "items_reco2 = []\n",
    "\n",
    "for i in items['ItemCode']:\n",
    "    try:\n",
    "        target_item.append(int(i))\n",
    "        temp = item_reco(i, mode=1)\n",
    "        items_reco1.append(temp[0])\n",
    "        items_reco2.append(temp[1])\n",
    "    except KeyError:\n",
    "        target_item.pop(-1)"
   ]
  },
  {
   "cell_type": "code",
   "execution_count": 28,
   "metadata": {},
   "outputs": [],
   "source": [
    "df_output = pd.DataFrame(columns=['TargetItem', 'RecommendedItem1', 'RecommendedItem2'])\n",
    "df_output['TargetItem'] = target_item\n",
    "df_output['RecommendedItem1'] = items_reco1\n",
    "df_output['RecommendedItem2'] = items_reco2"
   ]
  },
  {
   "cell_type": "code",
   "execution_count": 30,
   "metadata": {},
   "outputs": [],
   "source": [
    "# Writing to csv file\n",
    "# df_output.to_csv('results.csv')"
   ]
  },
  {
   "cell_type": "code",
   "execution_count": null,
   "metadata": {},
   "outputs": [],
   "source": []
  }
 ],
 "metadata": {
  "kernelspec": {
   "display_name": "Python 3",
   "language": "python",
   "name": "python3"
  },
  "language_info": {
   "codemirror_mode": {
    "name": "ipython",
    "version": 3
   },
   "file_extension": ".py",
   "mimetype": "text/x-python",
   "name": "python",
   "nbconvert_exporter": "python",
   "pygments_lexer": "ipython3",
   "version": "3.7.6"
  }
 },
 "nbformat": 4,
 "nbformat_minor": 4
}
